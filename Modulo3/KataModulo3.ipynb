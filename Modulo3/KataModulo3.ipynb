{
 "cells": [
  {
   "cell_type": "code",
   "execution_count": 1,
   "metadata": {},
   "outputs": [
    {
     "name": "stdout",
     "output_type": "stream",
     "text": [
      "ALERTA: Asteroide acercandose a gran velocidad\n"
     ]
    }
   ],
   "source": [
    "#Ejercicio 1\n",
    "\n",
    "asteroide = 49\n",
    "velocidad_max = 25\n",
    "if asteroide > velocidad_max:\n",
    "  print(\"ALERTA: Asteroide acercandose a gran velocidad\")\n",
    "else:\n",
    "  print(\"Todo normal\")"
   ]
  },
  {
   "cell_type": "code",
   "execution_count": 4,
   "metadata": {},
   "outputs": [
    {
     "name": "stdout",
     "output_type": "stream",
     "text": [
      "Sigan con su día\n"
     ]
    }
   ],
   "source": [
    "#Ejercicio 2\n",
    "\n",
    "asteroide = 19\n",
    "if asteroide > 20:\n",
    "  print(\"¡Alerta!, pueden ver un asteroide en el cielo\")\n",
    "elif asteroide == 20:\n",
    "  print(\"¡Alerta!, pueden ver un asteroide en el cielo\")\n",
    "else:\n",
    "  print(\"Sigan con su día\")\n"
   ]
  },
  {
   "cell_type": "code",
   "execution_count": 5,
   "metadata": {},
   "outputs": [
    {
     "name": "stdout",
     "output_type": "stream",
     "text": [
      "¡Alerta!, pueden ver un asteroide en el cielo\n"
     ]
    }
   ],
   "source": [
    "#Ejercicio 3\n",
    "asteroide_vel = 25\n",
    "asteroide_tam = 40\n",
    "if asteroide_vel > 25 and asteroide_tam > 25:\n",
    "    print(\"¡Alerta!, un gran asteroide está acercandose a la tierra\")\n",
    "elif asteroide_vel >= 20:\n",
    "    print(\"¡Alerta!, pueden ver un asteroide en el cielo\")\n",
    "elif asteroide_tam < 25:\n",
    "    print('Todo normal, sigan con su dia')\n",
    "else:\n",
    "    print('Todo normal, sigan con su dia')\n"
   ]
  }
 ],
 "metadata": {
  "interpreter": {
   "hash": "63fd5069d213b44bf678585dea6b12cceca9941eaf7f819626cde1f2670de90d"
  },
  "kernelspec": {
   "display_name": "Python 3.9.6 64-bit",
   "language": "python",
   "name": "python3"
  },
  "language_info": {
   "codemirror_mode": {
    "name": "ipython",
    "version": 3
   },
   "file_extension": ".py",
   "mimetype": "text/x-python",
   "name": "python",
   "nbconvert_exporter": "python",
   "pygments_lexer": "ipython3",
   "version": "3.9.6"
  },
  "orig_nbformat": 4
 },
 "nbformat": 4,
 "nbformat_minor": 2
}
